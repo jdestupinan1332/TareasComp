{
 "metadata": {
  "name": "pto_2_hw5"
 }, 
 "nbformat": 2, 
 "worksheets": [
  {
   "cells": [
    {
     "cell_type": "code", 
     "collapsed": false, 
     "input": [
      "from scipy.interpolate import interp1d", 
      "import numpy as np", 
      "%pylab inline"
     ], 
     "language": "python", 
     "outputs": [
      {
       "output_type": "stream", 
       "stream": "stdout", 
       "text": [
        "", 
        "Welcome to pylab, a matplotlib-based Python environment [backend: module://IPython.zmq.pylab.backend_inline].", 
        "For more information, type 'help(pylab)'."
       ]
      }
     ], 
     "prompt_number": 1
    }, 
    {
     "cell_type": "code", 
     "collapsed": true, 
     "input": [
      "data=loadtxt(\"sparse_sample_monthrg.dat\")", 
      "anno=data[:,0]", 
      "mes=data[:,1]", 
      "dias=data[:,2]", 
      "", 
      "#print data", 
      "", 
      "data_n=[]", 
      "", 
      "for k in data[:,3]:", 
      "", 
      "    if(k < 0):", 
      "", 
      "        k=k+99.0", 
      "", 
      "    data_n=np.append(data_n,k)", 
      "", 
      "#print data_n"
     ], 
     "language": "python", 
     "outputs": [], 
     "prompt_number": 2
    }, 
    {
     "cell_type": "code", 
     "collapsed": true, 
     "input": [
      "x=anno", 
      "#x_true=linspace(0.0,31.0,1)", 
      "y=data_n"
     ], 
     "language": "python", 
     "outputs": [], 
     "prompt_number": 3
    }, 
    {
     "cell_type": "code", 
     "collapsed": false, 
     "input": [
      "f=interp1d(x,y,kind='linear')", 
      "print shape(data)[0]", 
      "print shape(data_n)[0]"
     ], 
     "language": "python", 
     "outputs": [
      {
       "output_type": "stream", 
       "stream": "stdout", 
       "text": [
        "498", 
        "498"
       ]
      }
     ], 
     "prompt_number": 4
    }, 
    {
     "cell_type": "code", 
     "collapsed": false, 
     "input": [
      "print shape(f(x))[0]"
     ], 
     "language": "python", 
     "outputs": [
      {
       "output_type": "stream", 
       "stream": "stdout", 
       "text": [
        "498"
       ]
      }, 
      {
       "output_type": "stream", 
       "stream": "stderr", 
       "text": [
        "/usr/lib/python2.7/dist-packages/scipy/interpolate/interpolate.py:309: RuntimeWarning: invalid value encountered in divide", 
        "  slope = (y_hi-y_lo) / (x_hi-x_lo)"
       ]
      }
     ], 
     "prompt_number": 5
    }, 
    {
     "cell_type": "code", 
     "collapsed": false, 
     "input": [
      "plot(x,f(x))"
     ], 
     "language": "python", 
     "outputs": [
      {
       "output_type": "pyout", 
       "prompt_number": 6, 
       "text": [
        "[<matplotlib.lines.Line2D at 0xa90452c>]"
       ]
      }, 
      {
       "output_type": "display_data", 
       "png": "[encoded data removed]"
      }
     ], 
     "prompt_number": 6
    }, 
    {
     "cell_type": "code", 
     "collapsed": true, 
     "input": [
      "tiempo=[]", 
      "for i in range(4620):", 
      "    tiempo=np.append(tiempo,i)", 
      "    "
     ], 
     "language": "python", 
     "outputs": [], 
     "prompt_number": 7
    }, 
    {
     "cell_type": "code", 
     "collapsed": false, 
     "input": [
      "print shape(tiempo)[0]"
     ], 
     "language": "python", 
     "outputs": [
      {
       "output_type": "stream", 
       "stream": "stdout", 
       "text": [
        "4620"
       ]
      }
     ], 
     "prompt_number": 8
    }, 
    {
     "cell_type": "code", 
     "collapsed": false, 
     "input": [
      "print tiempo"
     ], 
     "language": "python", 
     "outputs": [
      {
       "output_type": "stream", 
       "stream": "stdout", 
       "text": [
        "[  0.00000000e+00   1.00000000e+00   2.00000000e+00 ...,   4.61700000e+03", 
        "   4.61800000e+03   4.61900000e+03]"
       ]
      }
     ], 
     "prompt_number": 9
    }, 
    {
     "cell_type": "code", 
     "collapsed": false, 
     "input": [
      "w=mes", 
      "z=data_n", 
      "f2=interp1d(w,z,kind='linear')", 
      "print shape(mes)[0]", 
      "print shape(data_n)[0]"
     ], 
     "language": "python", 
     "outputs": [
      {
       "output_type": "stream", 
       "stream": "stdout", 
       "text": [
        "498", 
        "498"
       ]
      }
     ], 
     "prompt_number": 10
    }, 
    {
     "cell_type": "code", 
     "collapsed": false, 
     "input": [
      "#print shape(f2(w))### aqui es donde esta el error"
     ], 
     "language": "python", 
     "outputs": [], 
     "prompt_number": 1
    }, 
    {
     "cell_type": "code", 
     "collapsed": true, 
     "input": [], 
     "language": "python", 
     "outputs": []
    }
   ]
  }
 ]
}